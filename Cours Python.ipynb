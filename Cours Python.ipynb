{
 "cells": [
  {
   "cell_type": "markdown",
   "metadata": {},
   "source": [
    "<h1 style=\"text-align: center\">Python</h1>"
   ]
  },
  {
   "cell_type": "markdown",
   "metadata": {},
   "source": [
    "<h2>1. Introduction</h2>\n"
   ]
  },
  {
   "cell_type": "markdown",
   "metadata": {},
   "source": [
    "\n",
    "<h3>L'essentiel</h3>\n",
    "<strong>Python</strong> est un langage de programmation <strong>interprété</strong>, <strong>multi-paradigme</strong> et <strong>multiplateformes</strong>. Il favorise la programmation impérative structurée, fonctionnelle et orientée objet. Il est doté d'un <strong>typage dynamique fort</strong>.\n",
    "Le langage Python est open source. Il est apprécié par certains pédagogues qui y trouvent un langage où la syntaxe, clairement séparée des mécanismes de bas niveau, permet une initiation aisée aux concepts de base de la programmation.\n",
    "Python est le langage de programmation le plus utilisé dans le domaine du Machine Learning, du Big Data et de la Data Science. \n",
    "Python est aussi utilisé dans le Web, les sites suivants utilisent Python et son célèbre <strong>framework  Django</strong> : Pinterest, Instagram, washingtonpost.com, newyorktimes.com, nationalgeographic.com ou encore le site de la NASA.\n",
    "<h3>Un peu d'histoire</h3>\n",
    "Créé en 1991, le langage de programmation Python apparu à l’époque comme une façon d’automatiser les éléments les plus ennuyeux de l’écriture de scripts. Il est crée par Guido van Rossum et tire son nom de l'émission Monty Python’s Flying Circus.\n",
    "Depuis plusieurs années la popularité du langage Python ne cesse de croitre. Vous pouvez consulter <a title=\"index TIOBE\" href=\"https://www.tiobe.com/tiobe-index\">\n",
    "     l’index TIOBE : </a> pour vous faire une idée.\n",
    "Il est parmi les plus utilisés dans le domaine du développement de logiciels, de gestion d’infrastructure et d’analyse de données. \n",
    "Python est un langage de programmation open source créé par le programmeur Guido van Rossum en 1991.\n",
    "<h3>Python en sciences</h3>\n",
    "Le langage est aussi très utilisé dans le domaine de la science des données et du Machine Learning.\n",
    "La grande majorité des bibliothèques utilisées pour la science des données ou le Machine Learning ont des interfaces Python. Ainsi, ce langage est devenu l’interface de commande de haut niveau la plus populaire pour les bibliothèques de Machine Learning et autres algorithmes numériques.\n",
    "\n",
    "Si le Python s’est érigé comme le meilleur langage de programmation pour le Big Data, c’est grâce à ses différents packages et bibliothèques de science des données.(Pandas, Bokeh, NumPy, Scipy, Scikit-learn, PyBrain, TensorFlow)\n",
    "\n",
    "<h3>Environnement de travail</h3>\n",
    "Pour ce cours nous utiliserons le notebook Jupyter.\n",
    "Les cellules commencant par Entrée [n] sont toutes executables.\n",
    "Nous utiliserons également l'IDE Spyder installé avec l'environnement Winpython.\n",
    "\n",
    "\n",
    "Certaines parties sont notées **Bonus**. Cela veut dire qu'elle sont facultatives et que vous pouvez les passer, sauf si cela vous intéresse.\n",
    "Des exercices supplémentaires à faire sur le site <a title=\"France IOI\" href=\"http://www.http://www.france-ioi.org/\">France IOI</a>\n",
    "Rentrons dans le vif du sujet :\n",
    "\n"
   ]
  },
  {
   "cell_type": "markdown",
   "metadata": {},
   "source": [
    "<h2> 2. Python comme calculatrice </h2>\n",
    "<Br>\n",
    "Principe\n",
    "    Dans cette partie nous utiliserons que <strong>l'interpréteur</strong> Python. Commencez par y taper quelques opérations à l'aide des opérateurs de base suivants :\n",
    "<Br>\n",
    "<table style=\"border-style: solid; \">\n",
    "   \n",
    "  <tr style=\"background-color: grey\">\n",
    "    <th>Symbole</th>\n",
    "    <th>Opération</th>\n",
    "  </tr>\n",
    "  <tr>\n",
    "    <td style=\"font-weight: bold; text-align: center;\">+</td>\n",
    "    <td>Addition</td>\n",
    "  </tr>\n",
    "  <tr>\n",
    "    <td style=\"font-weight: bold; text-align: center;\">-</td>\n",
    "    <td>Soustraction</td>\n",
    "  </tr>\n",
    "  <tr>\n",
    "    <td style=\"font-weight: bold; text-align: center;\">*</td>\n",
    "    <td>Multiplication</td>\n",
    "  </tr>\n",
    "  <tr>\n",
    "    <td style=\"font-weight: bold; text-align: center;\">/</td>\n",
    "    <td>Division</td>\n",
    "  </tr>\n",
    "  <tr>\n",
    "    <td style=\"font-weight: bold; text-align: center;\">//</td>\n",
    "    <td>Divion entière</td>\n",
    "  </tr>\n",
    "  <tr>\n",
    "    <td style=\"font-weight: bold; text-align: center;\">**</td>\n",
    "    <td>Puissance</td>\n",
    "  </tr>\n",
    "  <tr>\n",
    "    <td style=\"font-weight: bold; text-align: center;\">%</td>\n",
    "    <td>Modulo</td>\n",
    "  </tr>\n",
    "</table>\n",
    "\n",
    "Vous pouvez tester ces opérations dans la cellule suivante :"
   ]
  },
  {
   "cell_type": "code",
   "execution_count": null,
   "metadata": {},
   "outputs": [],
   "source": [
    "# Testez ici. Vous verrez, Python calcul vite :)\n",
    "54621325 * 4487"
   ]
  },
  {
   "cell_type": "markdown",
   "metadata": {},
   "source": [
    "On peut être amené à devoir utiliser des fonctions mathématiques, pour cela il faut préalablement <strong>importer un module</strong> supplémentaire, le module math."
   ]
  },
  {
   "cell_type": "code",
   "execution_count": null,
   "metadata": {},
   "outputs": [],
   "source": [
    "from math import * # Cela signifie \"dans le module math, importer tout\""
   ]
  },
  {
   "cell_type": "code",
   "execution_count": null,
   "metadata": {},
   "outputs": [],
   "source": [
    "sqrt(4) # Racine carrée de quatre"
   ]
  },
  {
   "cell_type": "code",
   "execution_count": null,
   "metadata": {},
   "outputs": [],
   "source": [
    "cos(pi) # Cosinus de Pi"
   ]
  },
  {
   "cell_type": "markdown",
   "metadata": {},
   "source": [
    "La documentation du module maths : https://docs.python.org/fr/3/library/math.html"
   ]
  },
  {
   "cell_type": "markdown",
   "metadata": {},
   "source": [
    "<h2>3. Les variables </h2>\n",
    "\n",
    "Maintenant nous allons découvrir les variables. En Python, comme dans la plupart des langages de programmation, \n",
    "pour affecter une valeur à une variable, on utilise le signe $=$ .\n",
    "\n",
    "<h4>Règle pour les noms de variables :</h4>\n",
    "\tLes noms de variables <strong>autorisés</strong> sont des séquences de lettres (majuscules ou minuscules) et de chiffres qui débutent toujours par une lettre. La casse est significative. Il existe quelques mots réservés ne pouvant faire office de nom de variable (def, if, while, True, False...).\n",
    "\n",
    "Mais, les bonnes pratiques (PEP8) recommandent : \n",
    "<ul>\n",
    "    <li>Lettres seules, en minuscule : pour les boucles et les indices ;</li>\n",
    "    <li>Lettres minuscules + underscores : pour les modules, variables, fonctions et méthodes. ;</li>\n",
    "    <li>Lettres majuscules + underscores : pour les (pseudo) constantes.</li>\n",
    "    <li>Camel case : nom de classe.</li>\n",
    "    <li>On n’utilise PAS le mixedCase.</li>    \n",
    "</ul>\n",
    "\n"
   ]
  },
  {
   "cell_type": "code",
   "execution_count": null,
   "metadata": {},
   "outputs": [],
   "source": [
    "une_variable = 3  # Autorisé et respecte la PEP8"
   ]
  },
  {
   "cell_type": "code",
   "execution_count": null,
   "metadata": {},
   "outputs": [],
   "source": [
    "if = 2 # Interdit"
   ]
  },
  {
   "cell_type": "code",
   "execution_count": null,
   "metadata": {},
   "outputs": [],
   "source": [
    "5nombre = 5 #Interdit "
   ]
  },
  {
   "cell_type": "code",
   "execution_count": null,
   "metadata": {},
   "outputs": [],
   "source": [
    "Une_Variable = 8 # Autorisé mais ne respecte pas la PEP8 "
   ]
  },
  {
   "cell_type": "markdown",
   "metadata": {},
   "source": [
    "En Python il est possible de réaliser des affectations multiples :"
   ]
  },
  {
   "cell_type": "code",
   "execution_count": null,
   "metadata": {},
   "outputs": [],
   "source": [
    "y = x = 5\n",
    "a, b = 2, 3"
   ]
  },
  {
   "cell_type": "markdown",
   "metadata": {},
   "source": [
    "Prédire le résultat puis vérifier avec l’interpréteur Python :"
   ]
  },
  {
   "cell_type": "code",
   "execution_count": null,
   "metadata": {},
   "outputs": [],
   "source": [
    "a, b = 1, 2\n",
    "a, b = b, a + b\n",
    "c = a**b\n",
    "print(a, b, c)"
   ]
  },
  {
   "cell_type": "markdown",
   "metadata": {},
   "source": [
    "<h3>Les types de base</h3>\n",
    "\n",
    "Pour désigner la nature d’un objet manipuler par Python on parle de type. Les types de base sont :\n",
    "\n",
    "<table style=\"border-style: solid; \">\n",
    "   \n",
    "  <tr>\n",
    "    <td style=\"font-weight: bold; color: #FF8C00;\">int</td>\n",
    "    <td>Nombre entier</td>\n",
    "  </tr>\n",
    "  <tr>\n",
    "    <td style=\"font-weight: bold; color: #FF8C00;\">float</td>\n",
    "    <td>Nombre à virgule flottante</td>\n",
    "  </tr>\n",
    "  <tr>\n",
    "    <td style=\"font-weight: bold; color: #FF8C00;\">str</td>\n",
    "    <td>Chaîne de caractères</td>\n",
    "  </tr>\n",
    "  <tr>\n",
    "    <td style=\"font-weight: bold; color: #FF8C00;\">bool</td>\n",
    "    <td>Valeur booléenne</td>\n",
    "  </tr>\n",
    "</table>"
   ]
  },
  {
   "cell_type": "code",
   "execution_count": null,
   "metadata": {},
   "outputs": [],
   "source": [
    "x = 2.0\n",
    "type(x)"
   ]
  },
  {
   "cell_type": "code",
   "execution_count": null,
   "metadata": {},
   "outputs": [],
   "source": [
    "x = int(x)\n",
    "type(x)"
   ]
  },
  {
   "cell_type": "code",
   "execution_count": null,
   "metadata": {},
   "outputs": [],
   "source": [
    "x = float(x)\n",
    "type(x)"
   ]
  },
  {
   "cell_type": "code",
   "execution_count": null,
   "metadata": {},
   "outputs": [],
   "source": [
    "x = str(x)\n",
    "type(x)"
   ]
  },
  {
   "cell_type": "markdown",
   "metadata": {},
   "source": [
    "<h2>4. Les structures de contrôle </h2>\n",
    "\n",
    "<h3>les conditions</h3>\n",
    "\n",
    "Les opérateurs de comparaison :\n",
    "\n",
    "<table style=\"border-style: solid; \">\n",
    "   \n",
    "  <tr style=\"background-color: grey\">\n",
    "    <th>Symbole</th>\n",
    "    <th>Opération</th>\n",
    "  </tr>\n",
    "  <tr>\n",
    "    <td style=\"font-weight: bold; text-align: center;\"> < </td>\n",
    "    <td>Inférieur</td>\n",
    "  </tr>\n",
    "  <tr>\n",
    "    <td style=\"font-weight: bold; text-align: center;\"> > </td>\n",
    "    <td>Supérieur</td>\n",
    "  </tr>\n",
    "  <tr>\n",
    "    <td style=\"font-weight: bold; text-align: center;\"><=</td>\n",
    "    <td>Inférieur ou égal</td>\n",
    "  </tr>\n",
    "  <tr>\n",
    "    <td style=\"font-weight: bold; text-align: center;\">>=</td>\n",
    "    <td>Supérieur ou égal</td>\n",
    "  </tr>\n",
    "  <tr>\n",
    "    <td style=\"font-weight: bold; text-align: center;\">!=</td>\n",
    "    <td>Différent</td>\n",
    "  </tr>\n",
    "  <tr>\n",
    "    <td style=\"font-weight: bold; text-align: center;\">==</td>\n",
    "    <td>Égal</td>\n",
    "  </tr>\n",
    "  \n",
    "</table>\n",
    "\n",
    "Les opérateurs logiques :\n",
    "\n",
    "<table style=\"border-style: solid; \">\n",
    "   \n",
    "  <tr>\n",
    "    <td style=\"font-weight: bold; color: #FF00FF;\">and</td>\n",
    "    <td>ET</td>\n",
    "  </tr>\n",
    "  <tr>\n",
    "    <td style=\"font-weight: bold; color: #FF00FF;\">or</td>\n",
    "    <td>OU</td>\n",
    "  </tr>\n",
    "  <tr>\n",
    "    <td style=\"font-weight: bold; color: #FF00FF;\">not</td>\n",
    "    <td>NON</td>\n",
    "  </tr>\n",
    "  <tr>\n",
    "    <td style=\"font-weight: bold; color: #FF00FF;\">in</td>\n",
    "    <td>INCLUS</td>\n",
    "  </tr>\n",
    "</table>"
   ]
  },
  {
   "cell_type": "code",
   "execution_count": null,
   "metadata": {},
   "outputs": [],
   "source": [
    "# Exemple\n",
    "variable = 3\n",
    "if (variable >= 2) and (variable < 5):\n",
    "    print(\"La variable se trouve dans l'intervalle [2;5[\")\n",
    "else:\n",
    "    print(\"La variable ne se trouve pas dans l'intervalle [2;5[\")"
   ]
  },
  {
   "cell_type": "markdown",
   "metadata": {},
   "source": [
    "<strong style=\"font-weight: bold; color: red;\">Attention à l’indentation !</strong> En effet, les espaces au début de certaines lignes permettent de délimiter\n",
    "des blocs d’instructions."
   ]
  },
  {
   "cell_type": "markdown",
   "metadata": {},
   "source": [
    "<h4>Exercice :</h4>\n",
    "Écrire un programme qui demande à l’utilisateur son âge et lui indique en conséquence s’il est majeur\n",
    "ou non. Pour lire une entrée saisir par l’utilisateur, on peut utiliser le code suivant :"
   ]
  },
  {
   "cell_type": "code",
   "execution_count": null,
   "metadata": {},
   "outputs": [],
   "source": [
    "age = int(input(\"Quel est votre âge ?\"))\n",
    "# Complètez ici "
   ]
  },
  {
   "cell_type": "markdown",
   "metadata": {},
   "source": [
    "**Bonus**\n",
    "Dans certains cas, s’il n’y a que deux résultats simples de possibles on peut utiliser un opérateur ternaire."
   ]
  },
  {
   "cell_type": "code",
   "execution_count": null,
   "metadata": {},
   "outputs": [],
   "source": [
    "a, b = 2, 3\n",
    "minimum = a if (a < b) else b  \n",
    "print(minimum)"
   ]
  },
  {
   "cell_type": "markdown",
   "metadata": {},
   "source": [
    "<h3>les boucles</h3>\n",
    "<h4>La boucle <strong style=\"color: #FF00FF\">for</strong></h4>\n",
    "La boucle <strong style=\"color: #FF00FF\">for</strong> correspond à \"Pour ... allant de ... à ... faire ...\"\n",
    "Quelques exemples :"
   ]
  },
  {
   "cell_type": "code",
   "execution_count": null,
   "metadata": {},
   "outputs": [],
   "source": [
    "for i in range(20): # Pour i allant de 0 à 19.\n",
    "    print(i)"
   ]
  },
  {
   "cell_type": "code",
   "execution_count": null,
   "metadata": {},
   "outputs": [],
   "source": [
    "for i in range(1,20,2): # Pour i allant de 1 à 19 avec un pas de 2.\n",
    "    print(i)"
   ]
  },
  {
   "cell_type": "markdown",
   "metadata": {},
   "source": [
    "<h4>La boucle <strong style=\"color: #FF00FF\">while</strong></h4>\n",
    "La boucle <strong style=\"color: #FF00FF\">while</strong> correspond à \"Tant que ... faire ...\"\n",
    "Quelques exemples :"
   ]
  },
  {
   "cell_type": "code",
   "execution_count": null,
   "metadata": {},
   "outputs": [],
   "source": [
    "# Pouvez vous prévoir le problème avec le code suivant ?\n",
    "i = 10\n",
    "while (i < 100):\n",
    "    print(i)\n"
   ]
  },
  {
   "cell_type": "code",
   "execution_count": null,
   "metadata": {},
   "outputs": [],
   "source": [
    "i = 10\n",
    "while (i < 100):\n",
    "    print(i)\n",
    "    i+=1 # Dans cette boucle i est bien incrémenté.\n",
    "print(\"la boucle est terminée\")"
   ]
  },
  {
   "cell_type": "markdown",
   "metadata": {},
   "source": [
    "La boucle <strong style=\"color: #FF00FF\">for</strong> est privilégiée quand on connait à l’avance le nombre d’<strong>itérations</strong>."
   ]
  },
  {
   "cell_type": "markdown",
   "metadata": {},
   "source": [
    "<p>Écrire un programme qui demande à l’utilisateur de deviner un nombre mystère compris entre 0 et 100. \n",
    "A chaque proposition le programme indiquera à l’utilisateur \"C’est plus !\" ou \"C’est moins !\".\n",
    "Pour générer le nombre mystère aléatoire nous utiliserons le module random.\n",
    "La documentation du module random :<a title=\"Random\" href=\"https://www.tiobe.com/tiobe-index\"> https://docs.python.org/fr/3/library/random.html</p>"
   ]
  },
  {
   "cell_type": "code",
   "execution_count": null,
   "metadata": {},
   "outputs": [],
   "source": [
    "from random import *\n",
    "nombre_mystere = randint(0,100)\n",
    "#Completez ici"
   ]
  },
  {
   "cell_type": "markdown",
   "metadata": {},
   "source": [
    "Implémenter en Python, la suite de Syracuse. Prenez un nombre entier positif, et infligez-lui le traitement suivant :\n",
    "<ul>\n",
    "    <li>S’il est pair, vous le divisez par 2 ;</li>\n",
    "    <li>S’il est impair, vous le multipliez par 3 et vous ajoutez 1.</li>  \n",
    "</ul>\n",
    "Pour tester si un nombre est pair on utilise le test suivant :\n",
    "if (nombre%2 == 0):"
   ]
  },
  {
   "cell_type": "markdown",
   "metadata": {},
   "source": [
    "<h2>5. Les fonctions </h2>\n",
    "Lorsqu’une tâche doit être réalisée plusieurs fois par un programme avec seulement des paramètres différents,on peut l’isoler au sein d’une fonction. Une fonction est une suite d’instruction que l’on peut appeler avec un nom.\n",
    "Voici deux exemples de fonctions."
   ]
  },
  {
   "cell_type": "code",
   "execution_count": 1,
   "metadata": {},
   "outputs": [],
   "source": [
    "def tripler(n):\n",
    "    \"\"\"Cette fonction retourne le triple de n\n",
    "    qui est donné en entrée.\"\"\"\n",
    "    return 3 * n\n",
    "\n",
    "def dire_bonjour(prenom):\n",
    "    \"\"\"Cette fonction permet de dire bonjour\n",
    "    à la personne dont le prénom est donnée\n",
    "    en entrée\"\"\"\n",
    "    print(\"Bonjour {}\".format(prenom))"
   ]
  },
  {
   "cell_type": "markdown",
   "metadata": {},
   "source": [
    "Hé! Mais il en se passe rien quand j'execture les cellules précédentes ! Elle dit rien du tout la fonction ! \n",
    "En effet, il faut appeler la fonction :"
   ]
  },
  {
   "cell_type": "code",
   "execution_count": null,
   "metadata": {},
   "outputs": [],
   "source": [
    "tripler(42) "
   ]
  },
  {
   "cell_type": "code",
   "execution_count": null,
   "metadata": {},
   "outputs": [],
   "source": [
    "dire_bonjour(\"Sarah Connor\")"
   ]
  },
  {
   "cell_type": "markdown",
   "metadata": {},
   "source": [
    "Exercice : Écrivez une fonction permettant d’afficher les termes de la suite de Syracuse à partir d’un entier n."
   ]
  },
  {
   "cell_type": "code",
   "execution_count": null,
   "metadata": {},
   "outputs": [],
   "source": [
    "def syracuse(n):\n",
    "    \"\"\"N'oubliez pas la docstring\"\"\"\n",
    "    # Complètez ici"
   ]
  },
  {
   "cell_type": "code",
   "execution_count": null,
   "metadata": {},
   "outputs": [],
   "source": []
  },
  {
   "cell_type": "code",
   "execution_count": null,
   "metadata": {},
   "outputs": [],
   "source": []
  },
  {
   "cell_type": "code",
   "execution_count": null,
   "metadata": {},
   "outputs": [],
   "source": []
  },
  {
   "cell_type": "markdown",
   "metadata": {},
   "source": [
    "**Bonus**\n",
    "Il est aussi possible d’utiliser des fonctions anonymes (ou lambda). Deux exemples de fonctions :"
   ]
  },
  {
   "cell_type": "code",
   "execution_count": null,
   "metadata": {},
   "outputs": [],
   "source": [
    "f = lambda x: x**2 + 2\n",
    "f(5)"
   ]
  },
  {
   "cell_type": "code",
   "execution_count": null,
   "metadata": {},
   "outputs": [],
   "source": [
    "g = lambda x: x//2 if (x%2 == 0) else 3 * x + 1\n",
    "g(5)"
   ]
  },
  {
   "cell_type": "code",
   "execution_count": null,
   "metadata": {},
   "outputs": [],
   "source": []
  },
  {
   "cell_type": "markdown",
   "metadata": {},
   "source": [
    "<h2>6. Les structures de données </h2>"
   ]
  },
  {
   "cell_type": "code",
   "execution_count": null,
   "metadata": {},
   "outputs": [],
   "source": []
  }
 ],
 "metadata": {
  "kernelspec": {
   "display_name": "Python 3",
   "language": "python",
   "name": "python3"
  },
  "language_info": {
   "codemirror_mode": {
    "name": "ipython",
    "version": 3
   },
   "file_extension": ".py",
   "mimetype": "text/x-python",
   "name": "python",
   "nbconvert_exporter": "python",
   "pygments_lexer": "ipython3",
   "version": "3.7.4"
  }
 },
 "nbformat": 4,
 "nbformat_minor": 2
}
